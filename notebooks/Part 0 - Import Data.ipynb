{
 "cells": [
  {
   "cell_type": "markdown",
   "metadata": {},
   "source": [
    "# Import Dataset from Data Asset eXchange\n",
    "\n",
    "This notebook downloads a data set file from a public location. If the data set file is a compressed archive it will be decompressed.\n",
    "\n",
    "This notebook requires the following environment variables:\n",
    " -  `dataset_download_url` Public data set URL, e.g. `https://dax-cdn.cdn.appdomain.cloud/dax-fashion-mnist/1.0.2/fashion-mnist.tar.gz`\n",
    "\n",
    "### Table of Contents:\n",
    "* [0. Prerequisites](#cell0)\n",
    "* [1. Download and Extract Dataset Archive](#cell1)\n",
    "* [2. Add Dataset Files to Watson Studio Project](#cell2)\n",
    "* [Authors](#authors)\n",
    "\n",
    "\n",
    "<a id=\"cell0\"></a>\n",
    "### 0. Prerequisites\n",
    "\n",
    "Before you run this notebook complete the following steps:\n",
    "- Insert a project token\n",
    "- Import required packages\n",
    "\n",
    "#### Insert a project token\n",
    "\n",
    "When you import this project from the Watson Studio Gallery, a token should be automatically generated and inserted at the top of this notebook as a code cell such as the one below:\n",
    "\n",
    "```python\n",
    "# @hidden_cell\n",
    "# The project token is an authorization token that is used to access project resources like data sources, connections, and used by platform APIs.\n",
    "from project_lib import Project\n",
    "project = Project(project_id='YOUR_PROJECT_ID', project_access_token='YOUR_PROJECT_TOKEN')\n",
    "pc = project.project_context\n",
    "```\n",
    "\n",
    "If you do not see the cell above, follow these steps to enable the notebook to access the dataset from the project's resources:\n",
    "\n",
    "* Click on `More -> Insert project token` in the top-right menu section\n",
    "\n",
    "![ws-project.mov](https://media.giphy.com/media/jSVxX2spqwWF9unYrs/giphy.gif)\n",
    "\n",
    "* This should insert a cell at the top of this notebook similar to the example given above.\n",
    "\n",
    "  > If an error is displayed indicating that no project token is defined, follow [these instructions](https://dataplatform.cloud.ibm.com/docs/content/wsj/analyze-data/token.html?audience=wdp&context=data).\n",
    "\n",
    "* Run the newly inserted cell before proceeding with the notebook execution below\n",
    "\n",
    "#### Import required packages"
   ]
  },
  {
   "cell_type": "code",
   "execution_count": null,
   "metadata": {},
   "outputs": [],
   "source": [
    "import requests\n",
    "import tarfile\n",
    "from pathlib import Path\n",
    "from urllib.parse import urlparse"
   ]
  },
  {
   "cell_type": "markdown",
   "metadata": {},
   "source": [
    "<a id=\"cell1\"></a>\n",
    "### 1. Download and extract the dataset archive\n",
    "\n",
    "First, we define `dataset_download_url` as the url to download and save `data_path_name` as the potential data path to find your dataset in the folder.\n",
    "\n",
    "In this cell, we explore the `Oil Reservoir Simulations Dataset` as an example. Feel free to change the url path and data path, and the rest functions should work the same for all [Data Asset eXchange](https://developer.ibm.com/exchanges/data/) datasets."
   ]
  },
  {
   "cell_type": "code",
   "execution_count": null,
   "metadata": {},
   "outputs": [],
   "source": [
    "# Dataset archive location on public cloud storage\n",
    "dataset_download_url = 'https://dax-cdn.cdn.appdomain.cloud/dax-oil-reservoir-simulations/1.0.0/oil-reservoir-simulations.tar.gz'\n",
    "\n",
    "data_path_name = 'oil-reservoir-simulations/data/'"
   ]
  },
  {
   "cell_type": "markdown",
   "metadata": {},
   "source": [
    "Download and extract the dataset archive. "
   ]
  },
  {
   "cell_type": "code",
   "execution_count": null,
   "metadata": {},
   "outputs": [],
   "source": [
    "print('Downloading dataset archive {} ...'.format(dataset_download_url))\n",
    "\n",
    "data_file_name = Path((urlparse(dataset_download_url).path)).name\n",
    "\n",
    "r = requests.get(dataset_download_url)\n",
    "\n",
    "if r.status_code != 200:\n",
    "    print('Error. Dataset archive download failed.')\n",
    "else:\n",
    "    # save the downloaded archive\n",
    "    print('Saving downloaded archive as {} ...'.format(data_file_name))\n",
    "    with open(data_file_name, 'wb') as downloaded_file:\n",
    "        downloaded_file.write(r.content)\n",
    "    \n",
    "    if tarfile.is_tarfile(data_file_name):\n",
    "        # extract the downloaded archive\n",
    "            print('Extracting downloaded archive ...')\n",
    "            with tarfile.open(data_file_name, 'r') as tar:\n",
    "                tar.extractall()\n",
    "            print('Removing downloaded archive ...')\n",
    "            Path(data_file_name).unlink()\n",
    "            print('Done.')\n",
    "    else:\n",
    "        print('Error. The downloaded file is not a valid TAR archive.')\n",
    "    "
   ]
  },
  {
   "cell_type": "markdown",
   "metadata": {},
   "source": [
    "<a id=\"cell2\"></a>\n",
    "### 2. Add Dataset Files to Watson Studio Project\n",
    "\n",
    "Next, we add the extracted data files to the Watson Studio project to make them available to the other notebooks."
   ]
  },
  {
   "cell_type": "code",
   "execution_count": null,
   "metadata": {},
   "outputs": [],
   "source": [
    "data_path = Path(data_path_name)\n",
    "\n",
    "# Verify that the extracted artifacts are located in the expected location\n",
    "if not data_path.exists():\n",
    "    print('Error. The extracted data files are not located in the {} directory.'.format(data_path.name))\n",
    "else:\n",
    "    # Save extracted data file(s) as project assets\n",
    "    data_asset_count = 0\n",
    "    for file in list(data_path.glob('**/*')):\n",
    "        # The archive might contain files that are not relevant to \n",
    "        if file.suffix != '.tgz':\n",
    "            print('Saving {} as a project data asset ...'.format(file.name))\n",
    "            # save data file as a data asset in the project\n",
    "            with open(data_path / file.name, 'rb') as f:\n",
    "                project.save_data(file.name, f.read(), set_project_asset=True, overwrite=True)\n",
    "            data_asset_count = data_asset_count + 1\n",
    "        # remove the file to free up space\n",
    "        file.unlink()\n",
    "    print('Number of added data assets: {} '.format(data_asset_count))\n",
    "    print('You are ready to run the other notebooks.')"
   ]
  },
  {
   "cell_type": "markdown",
   "metadata": {},
   "source": [
    "<a id=\"authors\"></a> \n",
    "### Authors\n",
    "\n",
    "This notebook was created by the [Center for Open-Source Data & AI Technologies](http://codait.org).\n",
    "<br><br>\n",
    "\n",
    "Copyright © 2020 IBM. This notebook and its source code are released under the terms of the MIT License.\n",
    "<br><br>\n",
    "<div style=\"background:#F5F7FA; height:110px; padding: 2em; font-size:14px;\">\n",
    "<span style=\"font-size:18px;color:#152935;\">Love this notebook? </span>\n",
    "<span style=\"font-size:15px;color:#152935;float:right;margin-right:40px;\">Don't have an account yet?</span><br>\n",
    "<span style=\"color:#5A6872;\">Share it with your colleagues and help them discover the power of Watson Studio!</span>\n",
    "<span style=\"border: 1px solid #3d70b2;padding:8px;float:right;margin-right:40px; color:#3d70b2;\"><a href=\"https://ibm.co/wsnotebooks\" target=\"_blank\" style=\"color: #3d70b2;text-decoration: none;\">Sign Up</a></span><br>\n",
    "</div>"
   ]
  }
 ],
 "metadata": {
  "kernelspec": {
   "display_name": "Python 3",
   "language": "python",
   "name": "python3"
  },
  "language_info": {
   "codemirror_mode": {
    "name": "ipython",
    "version": 3
   },
   "file_extension": ".py",
   "mimetype": "text/x-python",
   "name": "python",
   "nbconvert_exporter": "python",
   "pygments_lexer": "ipython3",
   "version": "3.7.4"
  }
 },
 "nbformat": 4,
 "nbformat_minor": 1
}
